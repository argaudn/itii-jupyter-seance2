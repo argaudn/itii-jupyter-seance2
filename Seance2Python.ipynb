{
 "cells": [
  {
   "cell_type": "code",
   "execution_count": 2,
   "metadata": {},
   "outputs": [],
   "source": [
    "class Rectangle:\n",
    "    def __init__(self,longueur,largeur):\n",
    "        self.longueur=longueur\n",
    "        self.largeur=largeur\n",
    "    \n",
    "    \n",
    "    def getLargeur(self) :\n",
    "        return self.largeur\n",
    "    \n",
    "    def getLongueur(self) :    \n",
    "        return self.longueur\n",
    "    \n",
    "    def SetLargeur(self , largeur) :\n",
    "        self.largeur=largeur\n",
    "        \n",
    "    def SetLongueur(self, longueur) :\n",
    "        self.hauteur=longueur\n",
    "        \n",
    "        \n",
    "    def Perimetre(self):\n",
    "        perim = (self.longueur + self.largeur) *2\n",
    "        return perim\n",
    "    \n",
    "    def Surface(self):\n",
    "        surf= self.longueur*self.largeur\n",
    "        return surf\n",
    "    \n",
    "        \n",
    "    \n",
    "    "
   ]
  },
  {
   "cell_type": "code",
   "execution_count": 3,
   "metadata": {},
   "outputs": [],
   "source": [
    "class Parallelepipede(Rectangle):\n",
    "    def __init__(self,longueur,largeur,hauteur):\n",
    "        self.longueur=longueur\n",
    "        self.largeur=largeur\n",
    "        self.hauteur=hauteur\n",
    "        \n",
    "    def Volume(self):\n",
    "        return self.longueur * self.largeur * self.hauteur\n",
    "        \n",
    "        "
   ]
  },
  {
   "cell_type": "code",
   "execution_count": 4,
   "metadata": {},
   "outputs": [],
   "source": [
    "class Vecteur2D:\n",
    "    def __init__(self,xcoord,ycoord):\n",
    "        self.x=xcoord\n",
    "        self.y=ycoord\n",
    "    \n",
    "    def affiche(self):\n",
    "        print(self.x, self.y)\n",
    "        \n",
    "    def __add__(vect1,vect2):\n",
    "        return Vecteur2D(vect1.x + vect2.x + vect1.y + vect2.y)"
   ]
  },
  {
   "cell_type": "code",
   "execution_count": null,
   "metadata": {},
   "outputs": [],
   "source": []
  }
 ],
 "metadata": {
  "kernelspec": {
   "display_name": "Python 3",
   "language": "python",
   "name": "python3"
  },
  "language_info": {
   "codemirror_mode": {
    "name": "ipython",
    "version": 3
   },
   "file_extension": ".py",
   "mimetype": "text/x-python",
   "name": "python",
   "nbconvert_exporter": "python",
   "pygments_lexer": "ipython3",
   "version": "3.7.6"
  }
 },
 "nbformat": 4,
 "nbformat_minor": 4
}
